{
  "nbformat": 4,
  "nbformat_minor": 0,
  "metadata": {
    "colab": {
      "provenance": []
    },
    "kernelspec": {
      "name": "python3",
      "display_name": "Python 3"
    },
    "language_info": {
      "name": "python"
    }
  },
  "cells": [
    {
      "cell_type": "code",
      "execution_count": 1,
      "metadata": {
        "colab": {
          "base_uri": "https://localhost:8080/"
        },
        "id": "5n2dhPXxfAPi",
        "outputId": "874064c9-6ed6-47a1-88f0-7dbe4800e7cf"
      },
      "outputs": [
        {
          "output_type": "stream",
          "name": "stdout",
          "text": [
            "Collecting git+https://github.com/maciejkula/spotlight.git\n",
            "  Cloning https://github.com/maciejkula/spotlight.git to /tmp/pip-req-build-97vt1kif\n",
            "  Running command git clone --filter=blob:none --quiet https://github.com/maciejkula/spotlight.git /tmp/pip-req-build-97vt1kif\n",
            "  Resolved https://github.com/maciejkula/spotlight.git to commit 75f4c8c55090771b52b88ef1a00f75bb39f9f2a9\n",
            "  Preparing metadata (setup.py) ... \u001b[?25l\u001b[?25hdone\n",
            "Requirement already satisfied: torch>=0.4.0 in /usr/local/lib/python3.10/dist-packages (from spotlight==0.1.6) (2.5.1+cu121)\n",
            "Requirement already satisfied: filelock in /usr/local/lib/python3.10/dist-packages (from torch>=0.4.0->spotlight==0.1.6) (3.16.1)\n",
            "Requirement already satisfied: typing-extensions>=4.8.0 in /usr/local/lib/python3.10/dist-packages (from torch>=0.4.0->spotlight==0.1.6) (4.12.2)\n",
            "Requirement already satisfied: networkx in /usr/local/lib/python3.10/dist-packages (from torch>=0.4.0->spotlight==0.1.6) (3.4.2)\n",
            "Requirement already satisfied: jinja2 in /usr/local/lib/python3.10/dist-packages (from torch>=0.4.0->spotlight==0.1.6) (3.1.4)\n",
            "Requirement already satisfied: fsspec in /usr/local/lib/python3.10/dist-packages (from torch>=0.4.0->spotlight==0.1.6) (2024.10.0)\n",
            "Requirement already satisfied: sympy==1.13.1 in /usr/local/lib/python3.10/dist-packages (from torch>=0.4.0->spotlight==0.1.6) (1.13.1)\n",
            "Requirement already satisfied: mpmath<1.4,>=1.1.0 in /usr/local/lib/python3.10/dist-packages (from sympy==1.13.1->torch>=0.4.0->spotlight==0.1.6) (1.3.0)\n",
            "Requirement already satisfied: MarkupSafe>=2.0 in /usr/local/lib/python3.10/dist-packages (from jinja2->torch>=0.4.0->spotlight==0.1.6) (3.0.2)\n",
            "Building wheels for collected packages: spotlight\n",
            "  Building wheel for spotlight (setup.py) ... \u001b[?25l\u001b[?25hdone\n",
            "  Created wheel for spotlight: filename=spotlight-0.1.6-py3-none-any.whl size=33895 sha256=712a83df09a7602bc8fed973d0f53a16ab9b27d2e7aa3ec4b49ed26f2265ff66\n",
            "  Stored in directory: /tmp/pip-ephem-wheel-cache-ahg93cgj/wheels/d1/08/ee/45e61c6a791fdd520a5a95479ec9fc0acbbae916ba0456b358\n",
            "Successfully built spotlight\n",
            "Installing collected packages: spotlight\n",
            "Successfully installed spotlight-0.1.6\n",
            "Collecting git+https://github.com/mangaki/zero\n",
            "  Cloning https://github.com/mangaki/zero to /tmp/pip-req-build-amihyb9b\n",
            "  Running command git clone --filter=blob:none --quiet https://github.com/mangaki/zero /tmp/pip-req-build-amihyb9b\n",
            "  Resolved https://github.com/mangaki/zero to commit f526bbc538a45bdbe09e82b50c4890e90ea2202b\n",
            "  Installing build dependencies ... \u001b[?25l\u001b[?25hdone\n",
            "  Getting requirements to build wheel ... \u001b[?25l\u001b[?25hdone\n",
            "  Preparing metadata (pyproject.toml) ... \u001b[?25l\u001b[?25hdone\n",
            "Requirement already satisfied: numpy<2.0,>=1.23 in /usr/local/lib/python3.10/dist-packages (from mangaki-zero==1.2.0) (1.26.4)\n",
            "Collecting pandas<1.3.4,>=1.3 (from mangaki-zero==1.2.0)\n",
            "  Downloading pandas-1.3.3-cp310-cp310-manylinux_2_17_x86_64.manylinux2014_x86_64.whl.metadata (11 kB)\n",
            "Requirement already satisfied: scikit-learn<2.0,>=1.0 in /usr/local/lib/python3.10/dist-packages (from mangaki-zero==1.2.0) (1.6.0)\n",
            "Requirement already satisfied: scipy<2.0,>=1.9 in /usr/local/lib/python3.10/dist-packages (from mangaki-zero==1.2.0) (1.13.1)\n",
            "Requirement already satisfied: python-dateutil>=2.7.3 in /usr/local/lib/python3.10/dist-packages (from pandas<1.3.4,>=1.3->mangaki-zero==1.2.0) (2.8.2)\n",
            "Requirement already satisfied: pytz>=2017.3 in /usr/local/lib/python3.10/dist-packages (from pandas<1.3.4,>=1.3->mangaki-zero==1.2.0) (2024.2)\n",
            "Requirement already satisfied: joblib>=1.2.0 in /usr/local/lib/python3.10/dist-packages (from scikit-learn<2.0,>=1.0->mangaki-zero==1.2.0) (1.4.2)\n",
            "Requirement already satisfied: threadpoolctl>=3.1.0 in /usr/local/lib/python3.10/dist-packages (from scikit-learn<2.0,>=1.0->mangaki-zero==1.2.0) (3.5.0)\n",
            "Requirement already satisfied: six>=1.5 in /usr/local/lib/python3.10/dist-packages (from python-dateutil>=2.7.3->pandas<1.3.4,>=1.3->mangaki-zero==1.2.0) (1.17.0)\n",
            "Downloading pandas-1.3.3-cp310-cp310-manylinux_2_17_x86_64.manylinux2014_x86_64.whl (11.5 MB)\n",
            "\u001b[2K   \u001b[90m━━━━━━━━━━━━━━━━━━━━━━━━━━━━━━━━━━━━━━━━\u001b[0m \u001b[32m11.5/11.5 MB\u001b[0m \u001b[31m56.6 MB/s\u001b[0m eta \u001b[36m0:00:00\u001b[0m\n",
            "\u001b[?25hBuilding wheels for collected packages: mangaki-zero\n",
            "  Building wheel for mangaki-zero (pyproject.toml) ... \u001b[?25l\u001b[?25hdone\n",
            "  Created wheel for mangaki-zero: filename=mangaki_zero-1.2.0-py3-none-any.whl size=39878 sha256=ad8be0d66d243a445d9c684b34dc54b5abee9248cb2a1eaa0a9edda6044b3f31\n",
            "  Stored in directory: /tmp/pip-ephem-wheel-cache-1dgrhmyv/wheels/df/d7/41/56c8ddc508ddfbe81f7f317dec71da59b20501d17e85c28d13\n",
            "Successfully built mangaki-zero\n",
            "Installing collected packages: pandas, mangaki-zero\n",
            "  Attempting uninstall: pandas\n",
            "    Found existing installation: pandas 2.2.2\n",
            "    Uninstalling pandas-2.2.2:\n",
            "      Successfully uninstalled pandas-2.2.2\n",
            "\u001b[31mERROR: pip's dependency resolver does not currently take into account all the packages that are installed. This behaviour is the source of the following dependency conflicts.\n",
            "arviz 0.20.0 requires pandas>=1.5.0, but you have pandas 1.3.3 which is incompatible.\n",
            "bigframes 1.29.0 requires pandas>=1.5.3, but you have pandas 1.3.3 which is incompatible.\n",
            "cudf-cu12 24.10.1 requires pandas<2.2.3dev0,>=2.0, but you have pandas 1.3.3 which is incompatible.\n",
            "geopandas 1.0.1 requires pandas>=1.4.0, but you have pandas 1.3.3 which is incompatible.\n",
            "google-colab 1.0.0 requires pandas==2.2.2, but you have pandas 1.3.3 which is incompatible.\n",
            "ibis-framework 9.2.0 requires pandas<3,>=1.5.3, but you have pandas 1.3.3 which is incompatible.\n",
            "mizani 0.13.1 requires pandas>=2.2.0, but you have pandas 1.3.3 which is incompatible.\n",
            "plotnine 0.14.4 requires pandas>=2.2.0, but you have pandas 1.3.3 which is incompatible.\n",
            "statsmodels 0.14.4 requires pandas!=2.1.0,>=1.4, but you have pandas 1.3.3 which is incompatible.\n",
            "xarray 2024.11.0 requires pandas>=2.1, but you have pandas 1.3.3 which is incompatible.\u001b[0m\u001b[31m\n",
            "\u001b[0mSuccessfully installed mangaki-zero-1.2.0 pandas-1.3.3\n",
            "Requirement already satisfied: numpy in /usr/local/lib/python3.10/dist-packages (1.26.4)\n",
            "Requirement already satisfied: matplotlib in /usr/local/lib/python3.10/dist-packages (3.8.0)\n",
            "Requirement already satisfied: scikit-learn in /usr/local/lib/python3.10/dist-packages (1.6.0)\n",
            "Requirement already satisfied: seaborn in /usr/local/lib/python3.10/dist-packages (0.13.2)\n",
            "Requirement already satisfied: contourpy>=1.0.1 in /usr/local/lib/python3.10/dist-packages (from matplotlib) (1.3.1)\n",
            "Requirement already satisfied: cycler>=0.10 in /usr/local/lib/python3.10/dist-packages (from matplotlib) (0.12.1)\n",
            "Requirement already satisfied: fonttools>=4.22.0 in /usr/local/lib/python3.10/dist-packages (from matplotlib) (4.55.3)\n",
            "Requirement already satisfied: kiwisolver>=1.0.1 in /usr/local/lib/python3.10/dist-packages (from matplotlib) (1.4.7)\n",
            "Requirement already satisfied: packaging>=20.0 in /usr/local/lib/python3.10/dist-packages (from matplotlib) (24.2)\n",
            "Requirement already satisfied: pillow>=6.2.0 in /usr/local/lib/python3.10/dist-packages (from matplotlib) (11.0.0)\n",
            "Requirement already satisfied: pyparsing>=2.3.1 in /usr/local/lib/python3.10/dist-packages (from matplotlib) (3.2.0)\n",
            "Requirement already satisfied: python-dateutil>=2.7 in /usr/local/lib/python3.10/dist-packages (from matplotlib) (2.8.2)\n",
            "Requirement already satisfied: scipy>=1.6.0 in /usr/local/lib/python3.10/dist-packages (from scikit-learn) (1.13.1)\n",
            "Requirement already satisfied: joblib>=1.2.0 in /usr/local/lib/python3.10/dist-packages (from scikit-learn) (1.4.2)\n",
            "Requirement already satisfied: threadpoolctl>=3.1.0 in /usr/local/lib/python3.10/dist-packages (from scikit-learn) (3.5.0)\n",
            "Requirement already satisfied: pandas>=1.2 in /usr/local/lib/python3.10/dist-packages (from seaborn) (1.3.3)\n",
            "Requirement already satisfied: pytz>=2017.3 in /usr/local/lib/python3.10/dist-packages (from pandas>=1.2->seaborn) (2024.2)\n",
            "Requirement already satisfied: six>=1.5 in /usr/local/lib/python3.10/dist-packages (from python-dateutil>=2.7->matplotlib) (1.17.0)\n"
          ]
        }
      ],
      "source": [
        "!pip install git+https://github.com/maciejkula/spotlight.git\n",
        "!pip install git+https://github.com/mangaki/zero\n",
        "!pip install numpy matplotlib scikit-learn seaborn"
      ]
    },
    {
      "cell_type": "code",
      "source": [
        "!wget http://files.grouplens.org/datasets/movielens/ml-100k.zip\n",
        "!unzip ml-100k.zip"
      ],
      "metadata": {
        "colab": {
          "base_uri": "https://localhost:8080/"
        },
        "id": "mbzKhfjzfA_k",
        "outputId": "d9c23e7c-a518-4168-86cc-37f6c1407843"
      },
      "execution_count": 2,
      "outputs": [
        {
          "output_type": "stream",
          "name": "stdout",
          "text": [
            "--2024-12-26 08:41:54--  http://files.grouplens.org/datasets/movielens/ml-100k.zip\n",
            "Resolving files.grouplens.org (files.grouplens.org)... 128.101.65.152\n",
            "Connecting to files.grouplens.org (files.grouplens.org)|128.101.65.152|:80... connected.\n",
            "HTTP request sent, awaiting response... 200 OK\n",
            "Length: 4924029 (4.7M) [application/zip]\n",
            "Saving to: ‘ml-100k.zip’\n",
            "\n",
            "ml-100k.zip         100%[===================>]   4.70M  4.91MB/s    in 1.0s    \n",
            "\n",
            "2024-12-26 08:41:56 (4.91 MB/s) - ‘ml-100k.zip’ saved [4924029/4924029]\n",
            "\n",
            "Archive:  ml-100k.zip\n",
            "   creating: ml-100k/\n",
            "  inflating: ml-100k/allbut.pl       \n",
            "  inflating: ml-100k/mku.sh          \n",
            "  inflating: ml-100k/README          \n",
            "  inflating: ml-100k/u.data          \n",
            "  inflating: ml-100k/u.genre         \n",
            "  inflating: ml-100k/u.info          \n",
            "  inflating: ml-100k/u.item          \n",
            "  inflating: ml-100k/u.occupation    \n",
            "  inflating: ml-100k/u.user          \n",
            "  inflating: ml-100k/u1.base         \n",
            "  inflating: ml-100k/u1.test         \n",
            "  inflating: ml-100k/u2.base         \n",
            "  inflating: ml-100k/u2.test         \n",
            "  inflating: ml-100k/u3.base         \n",
            "  inflating: ml-100k/u3.test         \n",
            "  inflating: ml-100k/u4.base         \n",
            "  inflating: ml-100k/u4.test         \n",
            "  inflating: ml-100k/u5.base         \n",
            "  inflating: ml-100k/u5.test         \n",
            "  inflating: ml-100k/ua.base         \n",
            "  inflating: ml-100k/ua.test         \n",
            "  inflating: ml-100k/ub.base         \n",
            "  inflating: ml-100k/ub.test         \n"
          ]
        }
      ]
    },
    {
      "cell_type": "code",
      "source": [
        "import numpy as np\n",
        "import pandas as pd\n",
        "from sklearn.metrics.pairwise import cosine_distances, linear_kernel\n",
        "from sklearn.linear_model import Ridge\n",
        "from zero.svd import MangakiSVD"
      ],
      "metadata": {
        "id": "zLgVhEcdfE5T"
      },
      "execution_count": 3,
      "outputs": []
    },
    {
      "cell_type": "code",
      "source": [
        "import numpy as np\n",
        "import pandas as pd\n",
        "from sklearn.metrics.pairwise import linear_kernel\n",
        "import tensorflow as tf\n",
        "from tensorflow.keras import layers\n",
        "\n",
        "# Load the MovieLens dataset\n",
        "ratings = pd.read_csv('ml-100k/u.data', sep='\\t', names=('user', 'item', 'rating', 'timestamp'))\n",
        "titles = pd.read_csv('ml-100k/u.item', sep='|', encoding='latin1', names=('item', 'title', 'date', 'wat', 'link') + tuple(range(19)))\n",
        "titles = titles[['item', 'title']]\n",
        "\n",
        "# Zero-index the user and item columns\n",
        "ratings['user'] = ratings['user'] - 1\n",
        "ratings['item'] = ratings['item'] - 1\n",
        "\n",
        "# Convert to numpy arrays\n",
        "y = ratings['rating'].to_numpy()  # 1D array of ratings\n",
        "X = ratings[['user', 'item']].to_numpy()  # 2D array of (user, item)\n",
        "\n",
        "# Initialize SVD model\n",
        "# Assume MangakiSVD is already defined\n",
        "model = MangakiSVD(nb_components=10)\n",
        "model.nb_users = ratings['user'].max() + 1\n",
        "model.nb_works = ratings['item'].max() + 1\n",
        "model.fit(X, y)\n",
        "\n",
        "# Get item embeddings and user embeddings from the trained model\n",
        "embeddings_I = model.VT.T * model.sigma\n",
        "embeddings_U = model.U\n",
        "\n",
        "embeddings_I = embeddings_I[:20]\n",
        "embeddings_U = embeddings_U[:20]\n"
      ],
      "metadata": {
        "colab": {
          "base_uri": "https://localhost:8080/"
        },
        "id": "ujoUrlW8fMrV",
        "outputId": "125071dc-6c83-4196-8fd4-b1ee3e7ff750"
      },
      "execution_count": 4,
      "outputs": [
        {
          "output_type": "stream",
          "name": "stdout",
          "text": [
            "Computing M: (943 × 1682)\n",
            "Shapes (943, 10) (10,) (10, 1682)\n"
          ]
        }
      ]
    },
    {
      "cell_type": "code",
      "source": [
        "# Define the Graph Neural Network Model\n",
        "class GNN(tf.keras.Model):\n",
        "    def __init__(self, num_features, hidden_channels):\n",
        "        super(GNN, self).__init__()\n",
        "        self.conv1 = layers.Dense(hidden_channels, activation='relu')\n",
        "        self.conv2 = layers.Dense(hidden_channels, activation='relu')\n",
        "\n",
        "    def call(self, x, adjacency_matrix):\n",
        "        x = self.conv1(tf.matmul(adjacency_matrix, x))\n",
        "        x = self.conv2(tf.matmul(adjacency_matrix, x))\n",
        "        return x\n",
        "\n",
        "# Generate a low-discrepancy point set (sample points) using GNN\n",
        "def generate_diverse_recommendations(item_embeddings, adjacency_matrix, num_recommendations=5):\n",
        "    model = GNN(num_features=item_embeddings.shape[1], hidden_channels=64)\n",
        "\n",
        "    # Forward pass to get item representations\n",
        "    item_embeddings_tensor = tf.convert_to_tensor(item_embeddings, dtype=tf.float32)\n",
        "    gnn_output = model(item_embeddings_tensor, adjacency_matrix)\n",
        "\n",
        "    # Compute diversity by selecting items that are spaced apart in the feature space\n",
        "    distances = tf.norm(tf.expand_dims(gnn_output, 1) - gnn_output, axis=2)\n",
        "    selected_indices = []\n",
        "\n",
        "    while len(selected_indices) < num_recommendations:\n",
        "        if len(selected_indices) == 0:\n",
        "            idx = np.random.choice(len(item_embeddings))\n",
        "        else:\n",
        "            # Select item with maximum distance from already selected items\n",
        "            #idx = tf.argmax(tf.reduce_sum(distances[:, selected_indices], axis=1)).numpy()\n",
        "            idx = tf.argmax(tf.reduce_sum(tf.gather(distances, selected_indices, axis=1), axis=0)).numpy()\n",
        "\n",
        "        if idx not in selected_indices:  # Ensure not to select the same item\n",
        "            selected_indices.append(idx)\n",
        "\n",
        "    return selected_indices\n",
        "\n",
        "# Example usage\n",
        "user_id = 0  # Example user ID\n",
        "user_embedding = embeddings_U[user_id].reshape(1, -1)\n",
        "user_item_similarities = linear_kernel(user_embedding, embeddings_I).flatten()  # Compute user-item similarities\n",
        "dissimilarity_matrix = linear_kernel(embeddings_I)\n",
        "\n",
        "# Using embeddings and adjacency matrix to generate diverse recommendations\n",
        "recommended_indices = generate_diverse_recommendations(embeddings_I, dissimilarity_matrix, num_recommendations=7)\n",
        "print(\"Recommended item indices:\", recommended_indices)"
      ],
      "metadata": {
        "id": "GjIFsMKTfpjr"
      },
      "execution_count": null,
      "outputs": []
    },
    {
      "cell_type": "code",
      "source": [
        "import numpy as np\n",
        "import matplotlib.pyplot as plt\n",
        "from sklearn.decomposition import PCA\n",
        "\n",
        "# Use PCA to reduce item embeddings to 2D for visualization\n",
        "def reduce_to_2d(embeddings):\n",
        "    pca = PCA(n_components=2)\n",
        "    embeddings_2d = pca.fit_transform(embeddings)\n",
        "    return embeddings_2d\n",
        "\n",
        "# Example function to visualize the items\n",
        "def visualize_recommendations(item_embeddings, recommended_indices):\n",
        "    # Reduce item embeddings to 2D\n",
        "    embeddings_2d = reduce_to_2d(item_embeddings)\n",
        "\n",
        "    # Create a plot\n",
        "    plt.figure(figsize=(10, 8))\n",
        "\n",
        "    # Plot the non-recommended items in blue\n",
        "    non_recommended_indices = [i for i in range(item_embeddings.shape[0]) if i not in recommended_indices]\n",
        "    plt.scatter(embeddings_2d[non_recommended_indices, 0], embeddings_2d[non_recommended_indices, 1],\n",
        "                c='blue', label='Non-Recommendations', alpha=0.5)\n",
        "\n",
        "    # Plot the recommended items in red\n",
        "    plt.scatter(embeddings_2d[recommended_indices, 0], embeddings_2d[recommended_indices, 1],\n",
        "                c='red', label='Recommendations', s=100, edgecolors='black')\n",
        "\n",
        "    # Add labels and title\n",
        "    plt.title('Item Recommendations (Red) vs Non-Recommendations (Blue)')\n",
        "    plt.xlabel('PCA Component 1')\n",
        "    plt.ylabel('PCA Component 2')\n",
        "    plt.legend()\n",
        "\n",
        "    # Show the plot\n",
        "    plt.show()\n",
        "\n",
        "# Visualize the recommended items\n",
        "visualize_recommendations(item_embeddings=embeddings_I, recommended_indices=recommended_indices)\n"
      ],
      "metadata": {
        "id": "cO-7k04jfqHm"
      },
      "execution_count": null,
      "outputs": []
    },
    {
      "cell_type": "code",
      "source": [],
      "metadata": {
        "id": "XVS5GDsxf16U"
      },
      "execution_count": null,
      "outputs": []
    },
    {
      "cell_type": "code",
      "source": [
        "import numpy as np\n",
        "from scipy.linalg import det\n",
        "\n",
        "def compute_probability(subset, L):\n",
        "    # Compute the determinant of the submatrix L_Y\n",
        "    if len(subset) == 0:\n",
        "        return 1\n",
        "    #print(np.ix_(subset, subset))\n",
        "    submatrix = L[np.ix_(subset, subset)]\n",
        "    return det(submatrix)"
      ],
      "metadata": {
        "id": "hk1nGp3Pf19G"
      },
      "execution_count": 5,
      "outputs": []
    },
    {
      "cell_type": "code",
      "source": [
        "# Define the Graph Neural Network Model\n",
        "class GNN(tf.keras.Model):\n",
        "    def __init__(self, num_features, hidden_channels):\n",
        "        super(GNN, self).__init__()\n",
        "        self.conv1 = layers.Dense(hidden_channels, activation='relu')\n",
        "        self.conv2 = layers.Dense(hidden_channels, activation='relu')\n",
        "\n",
        "    def call(self, x, adjacency_matrix):\n",
        "        x = self.conv1(tf.matmul(adjacency_matrix, x))\n",
        "        x = self.conv2(tf.matmul(adjacency_matrix, x))\n",
        "        return x\n",
        "\n",
        "# Generate a low-discrepancy point set (sample points) using GNN\n",
        "def generate_diverse_recommendations(item_embeddings, kernel_matrix, num_recommendations=5):\n",
        "    \"\"\"\n",
        "    Generate diverse recommendations using DPP sampling.\n",
        "    Args:\n",
        "    - item_embeddings: The embeddings of the items.\n",
        "    - kernel_matrix: Precomputed similarity (kernel) matrix for DPP sampling.\n",
        "    - num_recommendations: Number of diverse items to recommend.\n",
        "\n",
        "    Returns:\n",
        "    - selected_indices: Indices of selected items.\n",
        "    \"\"\"\n",
        "    selected_indices = []\n",
        "    all_indices = np.arange(len(item_embeddings))\n",
        "\n",
        "    while len(selected_indices) < num_recommendations:\n",
        "        available_indices = [i for i in all_indices if i not in selected_indices]\n",
        "\n",
        "        # Initialize probabilities for available items\n",
        "        probabilities = []\n",
        "        for idx in available_indices:\n",
        "            new_subset = selected_indices + [idx]\n",
        "            prob = compute_probability(new_subset, kernel_matrix)\n",
        "            probabilities.append(prob)\n",
        "\n",
        "        # Normalize probabilities\n",
        "        probabilities = np.array(probabilities)\n",
        "        probabilities /= probabilities.sum()\n",
        "\n",
        "        # Select an item based on the computed DPP probabilities\n",
        "        chosen_idx = np.random.choice(available_indices, p=probabilities)\n",
        "        selected_indices.append(chosen_idx)\n",
        "\n",
        "    return selected_indices\n",
        "\n",
        "# Example usage\n",
        "user_id = 0  # Example user ID\n",
        "user_embedding = embeddings_U[user_id].reshape(1, -1)\n",
        "user_item_similarities = linear_kernel(user_embedding, embeddings_I).flatten()  # Compute user-item similarities\n",
        "dissimilarity_matrix = linear_kernel(embeddings_I)\n",
        "\n",
        "# Using embeddings and adjacency matrix to generate diverse recommendations\n",
        "recommended_indices = generate_diverse_recommendations(embeddings_I, dissimilarity_matrix, num_recommendations=10)\n",
        "print(\"Recommended item indices:\", recommended_indices)\n",
        "\n",
        "\n",
        "import numpy as np\n",
        "import matplotlib.pyplot as plt\n",
        "from sklearn.decomposition import PCA\n",
        "\n",
        "# Use PCA to reduce item embeddings to 2D for visualization\n",
        "def reduce_to_2d(embeddings):\n",
        "    pca = PCA(n_components=2)\n",
        "    embeddings_2d = pca.fit_transform(embeddings)\n",
        "    return embeddings_2d\n",
        "\n",
        "# Example function to visualize the items\n",
        "def visualize_recommendations(item_embeddings, recommended_indices):\n",
        "    # Reduce item embeddings to 2D\n",
        "    embeddings_2d = reduce_to_2d(item_embeddings)\n",
        "\n",
        "    # Create a plot\n",
        "    plt.figure(figsize=(10, 8))\n",
        "\n",
        "    # Plot the non-recommended items in blue\n",
        "    non_recommended_indices = [i for i in range(item_embeddings.shape[0]) if i not in recommended_indices]\n",
        "    plt.scatter(embeddings_2d[non_recommended_indices, 0], embeddings_2d[non_recommended_indices, 1],\n",
        "                c='blue', label='Non-Recommendations', alpha=0.5)\n",
        "\n",
        "    # Plot the recommended items in red\n",
        "    plt.scatter(embeddings_2d[recommended_indices, 0], embeddings_2d[recommended_indices, 1],\n",
        "                c='red', label='Recommendations', s=100, edgecolors='black')\n",
        "\n",
        "    # Add labels and title\n",
        "    plt.title('Item Recommendations (Red) vs Non-Recommendations (Blue)')\n",
        "    plt.xlabel('PCA Component 1')\n",
        "    plt.ylabel('PCA Component 2')\n",
        "    plt.legend()\n",
        "\n",
        "    # Show the plot\n",
        "    plt.show()\n",
        "\n",
        "# Visualize the recommended items\n",
        "visualize_recommendations(item_embeddings=embeddings_I, recommended_indices=recommended_indices)\n"
      ],
      "metadata": {
        "colab": {
          "base_uri": "https://localhost:8080/",
          "height": 736
        },
        "id": "0xIm9yGIf2hV",
        "outputId": "928503ec-ac3e-440a-ceaa-38c27f131a59"
      },
      "execution_count": 6,
      "outputs": [
        {
          "output_type": "stream",
          "name": "stdout",
          "text": [
            "Recommended item indices: [8, 55, 49, 12, 21, 54, 39, 0, 10, 7]\n"
          ]
        },
        {
          "output_type": "display_data",
          "data": {
            "text/plain": [
              "<Figure size 1000x800 with 1 Axes>"
            ],
            "image/png": "[encoded data removed]"
          },
          "metadata": {}
        }
      ]
    }
  ]
}